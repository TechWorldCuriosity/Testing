{
 "cells": [
  {
   "cell_type": "code",
   "execution_count": 1,
   "id": "14d3c146-c825-47b2-a1a6-a3679a95a986",
   "metadata": {},
   "outputs": [
    {
     "name": "stdin",
     "output_type": "stream",
     "text": [
      "Enter result (1=pass, 2=fail):  5\n",
      "Enter result (1=pass, 2=fail):  5\n",
      "Enter result (1=pass, 2=fail):  5\n",
      "Enter result (1=pass, 2=fail):  4\n",
      "Enter result (1=pass, 2=fail):  5\n",
      "Enter result (1=pass, 2=fail):  6\n",
      "Enter result (1=pass, 2=fail):  9\n",
      "Enter result (1=pass, 2=fail):  10\n",
      "Enter result (1=pass, 2=fail):  1\n",
      "Enter result (1=pass, 2=fail):  2\n",
      "Enter result (1=pass, 2=fail):  2\n",
      "Enter result (1=pass, 2=fail):  2\n",
      "Enter result (1=pass, 2=fail):  2\n",
      "Enter result (1=pass, 2=fail):  1\n",
      "Enter result (1=pass, 2=fail):  1\n",
      "Enter result (1=pass, 2=fail):  1\n",
      "Enter result (1=pass, 2=fail):  1\n",
      "Enter result (1=pass, 2=fail):  1\n"
     ]
    },
    {
     "name": "stdout",
     "output_type": "stream",
     "text": [
      "Passed: 6\n",
      "Failed: 4\n"
     ]
    }
   ],
   "source": [
    "\"\"\"3.1\"\"\"\n",
    "\n",
    "passes = 0\n",
    "failures = 0\n",
    "\n",
    "for student in range(10):\n",
    "    result = 0\n",
    "    while result != 1 and result != 2:\n",
    "        result = int(input('Enter result (1=pass, 2=fail): '))\n",
    "\n",
    "\n",
    "    if result == 1:\n",
    "        passes = passes + 1\n",
    "    else: \n",
    "        failures = failures + 1\n",
    "    if passes + failures == 10 or passes == 10 or failures == 10:\n",
    "        print('Passed:', passes)\n",
    "        print('Failed:', failures)\n",
    "\n",
    "if passes > 8:\n",
    "    print('Bonus to instructor')"
   ]
  },
  {
   "cell_type": "code",
   "execution_count": 3,
   "id": "898df801-052e-43d2-8607-1bd276caa550",
   "metadata": {},
   "outputs": [
    {
     "name": "stdout",
     "output_type": "stream",
     "text": [
      "a= 7 \n",
      "b= 7\n"
     ]
    }
   ],
   "source": [
    "\"\"\"3.2\"\"\"\n",
    "# What's wrong with this code?\n",
    "\n",
    "a = b = 7\n",
    "print('a=', a, '\\nb=', b) # there is nothing wrong with the code"
   ]
  },
  {
   "cell_type": "code",
   "execution_count": 5,
   "id": "1e23d2d3-8b9d-4426-82ea-859e6bc4cd7a",
   "metadata": {},
   "outputs": [
    {
     "name": "stdout",
     "output_type": "stream",
     "text": [
      "> > > > > > > > > > \n",
      "< < < < < < < < < < \n",
      "> > > > > > > > > > \n",
      "< < < < < < < < < < \n",
      "> > > > > > > > > > \n",
      "< < < < < < < < < < \n",
      "> > > > > > > > > > \n",
      "< < < < < < < < < < \n",
      "> > > > > > > > > > \n",
      "< < < < < < < < < < \n"
     ]
    }
   ],
   "source": [
    "\"\"\"3.3\"\"\"\n",
    "# What does this code do?\n",
    "\n",
    "for row in range(10):\n",
    "    for colum in range(10):\n",
    "        print('<' if row % 2 == 1 else '>', end=' ') # this is telling the even number rows to result arrows pointing left and odd rows to result with arrows point right\n",
    "    print()"
   ]
  },
  {
   "cell_type": "code",
   "execution_count": 7,
   "id": "84df509a-0e7a-4719-8e8e-e2962728acf9",
   "metadata": {},
   "outputs": [
    {
     "name": "stdout",
     "output_type": "stream",
     "text": [
      "@@@@@@@\n",
      "@@@@@@@\n"
     ]
    }
   ],
   "source": [
    "\"\"\"3.4\"\"\"\n",
    "#Fill in the missing code\n",
    "\n",
    "#for ***:\n",
    "#    for ***:\n",
    "#        print('@')\n",
    "#    print()\n",
    "\n",
    "for row in range(2):\n",
    "    for colum in range(7):\n",
    "        print('@', end='')\n",
    "    print()"
   ]
  },
  {
   "cell_type": "code",
   "execution_count": 9,
   "id": "e92eac9b-149e-4c2d-b2d2-fc623638f44c",
   "metadata": {},
   "outputs": [
    {
     "name": "stdout",
     "output_type": "stream",
     "text": [
      "Enter two integers, and I will tell you the relationships they satisfy.\n"
     ]
    },
    {
     "name": "stdin",
     "output_type": "stream",
     "text": [
      "Enter first integer:  65\n",
      "Enter second integer:  25\n"
     ]
    },
    {
     "name": "stdout",
     "output_type": "stream",
     "text": [
      "65 is not equal to 25\n",
      "65 is greater than 25\n",
      "65 is greater than or equal to 25\n"
     ]
    }
   ],
   "source": [
    "\"\"\"3.5\"\"\"\n",
    "#Reimplement the script of Fig 2.1 using three if...else statements rather than six if statements\n",
    "\n",
    "\n",
    "print('Enter two integers, and I will tell you',\n",
    "      'the relationships they satisfy.')\n",
    "\n",
    "number1 = int(input('Enter first integer: '))\n",
    "\n",
    "number2 = int(input('Enter second integer: '))\n",
    "\n",
    "if number1 == number2:\n",
    "    print(number1, 'is equal to', number2)\n",
    "else: #removed the other part of this if statement because it looked redundant when changed to an else statement\n",
    "    print(number1, 'is not equal to', number2)\n",
    "\n",
    "if number1 < number2:\n",
    "    print(number1, 'is less than', number2)\n",
    "else:\n",
    "    print(number1, 'is greater than', number2)\n",
    "\n",
    "if number1 <= number2:\n",
    "    print(number1, 'is less than or equal to', number2)\n",
    "else:\n",
    "    print(number1, 'is greater than or equal to', number2)"
   ]
  },
  {
   "cell_type": "code",
   "execution_count": 11,
   "id": "d915758e-0c2f-4638-88d9-66fe21116c7e",
   "metadata": {},
   "outputs": [
    {
     "name": "stdin",
     "output_type": "stream",
     "text": [
      "What is your problem? My back is killing me like crazy\n",
      "Have you had this problem before? (yes or no)? yes\n"
     ]
    },
    {
     "name": "stdout",
     "output_type": "stream",
     "text": [
      "Well, you have it again.\n"
     ]
    }
   ],
   "source": [
    "\"\"\"3.6\"\"\"\n",
    "# Turing test\n",
    "\n",
    "input('What is your problem?')\n",
    "response = input('Have you had this problem before? (yes or no)?')\n",
    "if response == 'yes':\n",
    "    print('Well, you have it again.')\n",
    "else:\n",
    "    print('Well, you have it now.')\n",
    "\n",
    "#I do not believe this will convince anyone they are talking to a real person because the script \n",
    "# ignores what the content of what the user is saying and does not have something of substance to respond"
   ]
  },
  {
   "cell_type": "code",
   "execution_count": 14,
   "id": "ea62679e-e9c8-4337-9eda-a090df1ef654",
   "metadata": {},
   "outputs": [
    {
     "name": "stdout",
     "output_type": "stream",
     "text": [
      "number\tsquare\tcube\n",
      "    0\t    0\t   0\n",
      "    1\t    1\t   1\n",
      "    2\t    4\t   8\n",
      "    3\t    9\t  27\n",
      "    4\t   16\t  64\n",
      "    5\t   25\t 125\n"
     ]
    }
   ],
   "source": [
    "\"\"\"3.7\"\"\"\n",
    "#Table of Squares and Cubes\n",
    "\n",
    "print (\"number\\tsquare\\tcube\")\n",
    "for number in range(6):\n",
    "    square = number**2\n",
    "    cube = number**3\n",
    "    print(f'{number:>5}\\t{square:>5}\\t{cube:>4}')"
   ]
  },
  {
   "cell_type": "code",
   "execution_count": 17,
   "id": "24b757ec-c51d-461d-94e3-0be78dc65caf",
   "metadata": {},
   "outputs": [
    {
     "name": "stdin",
     "output_type": "stream",
     "text": [
      "Enter first integer:  35\n",
      "Enter integer 2:  25\n",
      "Enter integer 3:  95\n",
      "Enter integer 4:  14\n"
     ]
    },
    {
     "name": "stdout",
     "output_type": "stream",
     "text": [
      "Sum of all integers is 169\n",
      "Average of all integers is 35\n",
      "Smallest value is 14 , Largest value is 95\n"
     ]
    }
   ],
   "source": [
    "\"\"\"3.8\"\"\"\n",
    "#Arithmetic, smallest and largest\n",
    "\n",
    "#import Python Standard Library\n",
    "import statistics\n",
    "\n",
    "#initialize variables for loop\n",
    "number1 = int(input('Enter first integer: '))\n",
    "\n",
    "#once we have the input from the user, we can arrange it by separate variables\n",
    "smallest = number1\n",
    "largest = number1\n",
    "total = number1\n",
    "\n",
    "numbers = [number1] #used to store all of the input values\n",
    "\n",
    "for i in range(2, 5): #we are using 2,5 so that 5 is not included but numbers 2,3,4 are set into loop\n",
    "    number = int(input(f'Enter integer {i}: ')) #we assigned i as a variable into our loop\n",
    "    total += number\n",
    "    if number < smallest:\n",
    "        smallest = number\n",
    "    if number > largest:\n",
    "        largest = number\n",
    "\n",
    "print('Sum of all integers is', total)\n",
    "print('Average of all integers is', statistics.mean(numbers))\n",
    "print('Smallest value is', smallest, ',', 'Largest value is', largest)"
   ]
  },
  {
   "cell_type": "code",
   "execution_count": 11,
   "id": "ea1c6e58-2578-4279-8b61-22ccebf8ec6e",
   "metadata": {},
   "outputs": [
    {
     "name": "stdin",
     "output_type": "stream",
     "text": [
      "Enter a five-digit integer:  4\n"
     ]
    },
    {
     "name": "stdout",
     "output_type": "stream",
     "text": [
      "Invalid number of integers.\n"
     ]
    },
    {
     "name": "stdin",
     "output_type": "stream",
     "text": [
      "Enter a five-digit integer:  5\n"
     ]
    },
    {
     "name": "stdout",
     "output_type": "stream",
     "text": [
      "Invalid number of integers.\n"
     ]
    },
    {
     "name": "stdin",
     "output_type": "stream",
     "text": [
      "Enter a five-digit integer:  6\n"
     ]
    },
    {
     "name": "stdout",
     "output_type": "stream",
     "text": [
      "Invalid number of integers.\n"
     ]
    },
    {
     "name": "stdin",
     "output_type": "stream",
     "text": [
      "Enter a five-digit integer:  1\n"
     ]
    },
    {
     "name": "stdout",
     "output_type": "stream",
     "text": [
      "Invalid number of integers.\n"
     ]
    },
    {
     "name": "stdin",
     "output_type": "stream",
     "text": [
      "Enter a five-digit integer:  14563\n"
     ]
    },
    {
     "name": "stdout",
     "output_type": "stream",
     "text": [
      "1 4 5 6 3 "
     ]
    }
   ],
   "source": [
    "\"\"\"3.9\"\"\"\n",
    "\n",
    "# Input a five-digit integer from the user\n",
    "while True:\n",
    "    number = int(input(\"Enter a five-digit integer: \"))\n",
    "\n",
    "# Ensure the input is exactly five digits\n",
    "    if 10000 <= number <= 99999:\n",
    "    # Initialize a divisor to get the leftmost digit\n",
    "        divisor = 10000\n",
    "    \n",
    "        while divisor >= 1:\n",
    "            digit = number // divisor\n",
    "            print(digit, end=' ') \n",
    "            number = number % divisor\n",
    "            divisor = divisor // 10\n",
    "        break\n",
    "    else:\n",
    "        print(\"Invalid number of integers.\")\n"
   ]
  },
  {
   "cell_type": "code",
   "execution_count": 20,
   "id": "7175a2f2-8664-464c-a35f-c111c64db0b9",
   "metadata": {},
   "outputs": [
    {
     "name": "stdout",
     "output_type": "stream",
     "text": [
      "Year\tFuture Value\n",
      "1\t1070.00\n",
      "2\t1144.90\n",
      "3\t1225.04\n",
      "4\t1310.80\n",
      "5\t1402.55\n",
      "6\t1500.73\n",
      "7\t1605.78\n",
      "8\t1718.19\n",
      "9\t1838.46\n",
      "10\t1967.15\n",
      "11\t2104.85\n",
      "12\t2252.19\n",
      "13\t2409.85\n",
      "14\t2578.53\n",
      "15\t2759.03\n",
      "16\t2952.16\n",
      "17\t3158.82\n",
      "18\t3379.93\n",
      "19\t3616.53\n",
      "20\t3869.68\n",
      "21\t4140.56\n",
      "22\t4430.40\n",
      "23\t4740.53\n",
      "24\t5072.37\n",
      "25\t5427.43\n",
      "26\t5807.35\n",
      "27\t6213.87\n",
      "28\t6648.84\n",
      "29\t7114.26\n",
      "30\t7612.26\n"
     ]
    }
   ],
   "source": [
    "\"\"\"3.10\"\"\"\n",
    "#7% Inverstment return, reimplement exercise 2.12\n",
    "\n",
    "#Original script I used for exercise 2.12\n",
    "# p = 1000\n",
    "# r = 0.07\n",
    "# n = int(input('Enter number of years: '))\n",
    "# a = p * (1 + r) ** n\n",
    "# print('Future value is', a)\n",
    "\n",
    "# use a loop that calculates and displays the amount of money you’ll have each year at the ends of years 1 through 30.\n",
    "\n",
    "#set up variables for loop\n",
    "p = 1000\n",
    "r = 0.07\n",
    "\n",
    "#create a table\n",
    "print(\"Year\\tFuture Value\")\n",
    "for n in range(1, 31):\n",
    "    a = p * (1 + r) ** n\n",
    "    print(f'{n}\\t{a:.2f}')"
   ]
  },
  {
   "cell_type": "code",
   "execution_count": null,
   "id": "d79b8947-e98e-48da-aa92-f00728f91608",
   "metadata": {},
   "outputs": [],
   "source": []
  }
 ],
 "metadata": {
  "kernelspec": {
   "display_name": "Python 3 (ipykernel)",
   "language": "python",
   "name": "python3"
  },
  "language_info": {
   "codemirror_mode": {
    "name": "ipython",
    "version": 3
   },
   "file_extension": ".py",
   "mimetype": "text/x-python",
   "name": "python",
   "nbconvert_exporter": "python",
   "pygments_lexer": "ipython3",
   "version": "3.12.4"
  }
 },
 "nbformat": 4,
 "nbformat_minor": 5
}
